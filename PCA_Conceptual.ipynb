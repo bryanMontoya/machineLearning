{
  "nbformat": 4,
  "nbformat_minor": 0,
  "metadata": {
    "colab": {
      "name": "PCA-Conceptual.ipynb",
      "provenance": [],
      "collapsed_sections": [],
      "authorship_tag": "ABX9TyNIRCzmr7vQnF/TTV+soMtV",
      "include_colab_link": true
    },
    "kernelspec": {
      "name": "python3",
      "display_name": "Python 3"
    },
    "language_info": {
      "name": "python"
    }
  },
  "cells": [
    {
      "cell_type": "markdown",
      "metadata": {
        "id": "view-in-github",
        "colab_type": "text"
      },
      "source": [
        "<a href=\"https://colab.research.google.com/github/bryanMontoya/machineLearning/blob/main/PCA_Conceptual.ipynb\" target=\"_parent\"><img src=\"https://colab.research.google.com/assets/colab-badge.svg\" alt=\"Open In Colab\"/></a>"
      ]
    },
    {
      "cell_type": "code",
      "metadata": {
        "colab": {
          "base_uri": "https://localhost:8080/"
        },
        "id": "pMuwWM4-WqZb",
        "outputId": "ab2ecb87-0111-42ca-de76-f7f4d1ea7e46"
      },
      "source": [
        "import numpy as np\n",
        "A = np.array([[2, -3, 0], [2, -5, 0], [0, 0, 3]])\n",
        "print(A)"
      ],
      "execution_count": 2,
      "outputs": [
        {
          "output_type": "stream",
          "name": "stdout",
          "text": [
            "[[ 2 -3  0]\n",
            " [ 2 -5  0]\n",
            " [ 0  0  3]]\n"
          ]
        }
      ]
    },
    {
      "cell_type": "code",
      "metadata": {
        "colab": {
          "base_uri": "https://localhost:8080/"
        },
        "id": "x4amf5lTW3kU",
        "outputId": "106d4d56-4d0a-4599-88f2-643fa5113b5c"
      },
      "source": [
        "print(np.linalg.eig(A))"
      ],
      "execution_count": 3,
      "outputs": [
        {
          "output_type": "stream",
          "name": "stdout",
          "text": [
            "(array([ 1., -4.,  3.]), array([[0.9486833 , 0.4472136 , 0.        ],\n",
            "       [0.31622777, 0.89442719, 0.        ],\n",
            "       [0.        , 0.        , 1.        ]]))\n"
          ]
        }
      ]
    },
    {
      "cell_type": "code",
      "metadata": {
        "colab": {
          "base_uri": "https://localhost:8080/"
        },
        "id": "KnpGy3tLXkeh",
        "outputId": "c0329845-c5f8-4365-a6ee-859c0618fbb6"
      },
      "source": [
        "X = np.array([[2,4,2,3,1],[1,5,6,3,4],[4,3,2,1,4],[6,5,10,2,1],[3,4,5,1,2]])\n",
        "print(X)"
      ],
      "execution_count": 4,
      "outputs": [
        {
          "output_type": "stream",
          "name": "stdout",
          "text": [
            "[[ 2  4  2  3  1]\n",
            " [ 1  5  6  3  4]\n",
            " [ 4  3  2  1  4]\n",
            " [ 6  5 10  2  1]\n",
            " [ 3  4  5  1  2]]\n"
          ]
        }
      ]
    },
    {
      "cell_type": "markdown",
      "metadata": {
        "id": "5YPyDUZ6ZN3z"
      },
      "source": [
        "**Paso 1: Estandarizar los datos.**"
      ]
    },
    {
      "cell_type": "code",
      "metadata": {
        "colab": {
          "base_uri": "https://localhost:8080/"
        },
        "id": "MP26hlXNYcII",
        "outputId": "05881dc8-9f9b-4e9f-ea25-9a483f080e2a"
      },
      "source": [
        "#Media por cada columna.\n",
        "u = np.mean(X, axis = 0)\n",
        "print(u)"
      ],
      "execution_count": 6,
      "outputs": [
        {
          "output_type": "stream",
          "name": "stdout",
          "text": [
            "[3.2 4.2 5.  2.  2.4]\n"
          ]
        }
      ]
    },
    {
      "cell_type": "code",
      "metadata": {
        "colab": {
          "base_uri": "https://localhost:8080/"
        },
        "id": "I053lwI7YrGv",
        "outputId": "0c31436e-5b45-44b8-edc7-7aaccfa96e95"
      },
      "source": [
        "#Desviación estándar por cada columna.\n",
        "sigma = np.std(X, axis = 0)\n",
        "print(sigma)"
      ],
      "execution_count": 7,
      "outputs": [
        {
          "output_type": "stream",
          "name": "stdout",
          "text": [
            "[1.72046505 0.74833148 2.96647939 0.89442719 1.356466  ]\n"
          ]
        }
      ]
    },
    {
      "cell_type": "code",
      "metadata": {
        "colab": {
          "base_uri": "https://localhost:8080/"
        },
        "id": "NZL3nE11ZBr1",
        "outputId": "ab799552-8467-4deb-97f4-9a14d81bca48"
      },
      "source": [
        "Xz = (X-u)/sigma\n",
        "print(Xz)"
      ],
      "execution_count": 8,
      "outputs": [
        {
          "output_type": "stream",
          "name": "stdout",
          "text": [
            "[[-0.69748583 -0.26726124 -1.01129979  1.11803399 -1.03209369]\n",
            " [-1.27872403  1.06904497  0.33709993  1.11803399  1.17953565]\n",
            " [ 0.46499055 -1.60356745 -1.01129979 -1.11803399  1.17953565]\n",
            " [ 1.62746694  1.06904497  1.68549966  0.         -1.03209369]\n",
            " [-0.11624764 -0.26726124  0.         -1.11803399 -0.29488391]]\n"
          ]
        }
      ]
    },
    {
      "cell_type": "markdown",
      "metadata": {
        "id": "UOkFNVnjZVsG"
      },
      "source": [
        "**Paso 2: Construir la matriz de covarianza.**"
      ]
    },
    {
      "cell_type": "code",
      "metadata": {
        "colab": {
          "base_uri": "https://localhost:8080/"
        },
        "id": "A7yekRISZelI",
        "outputId": "49273c4a-75bf-4c9e-fe7e-b2c442137d3b"
      },
      "source": [
        "Mcov = np.cov(Xz)\n",
        "print(Mcov)"
      ],
      "execution_count": 10,
      "outputs": [
        {
          "output_type": "stream",
          "name": "stdout",
          "text": [
            "[[ 0.79533979  0.30364383 -0.5324668  -0.19845928 -0.36805753]\n",
            " [ 0.30364383  1.0892043  -0.37390678 -0.80303431 -0.21590704]\n",
            " [-0.5324668  -0.37390678  1.39485359 -0.62007219  0.13159218]\n",
            " [-0.19845928 -0.80303431 -0.62007219  1.36331058  0.2582552 ]\n",
            " [-0.36805753 -0.21590704  0.13159218  0.2582552   0.19411719]]\n"
          ]
        }
      ]
    },
    {
      "cell_type": "markdown",
      "metadata": {
        "id": "5lxHfqj5bP4e"
      },
      "source": [
        "**Paso 3: Valores propios y vectores propios.**"
      ]
    },
    {
      "cell_type": "code",
      "metadata": {
        "colab": {
          "base_uri": "https://localhost:8080/"
        },
        "id": "IjnKOU6IbNt4",
        "outputId": "c9d44d04-2802-4db1-9cff-1a00df3c38e4"
      },
      "source": [
        "l = np.linalg.eigvals(Mcov)\n",
        "print(l)\n",
        "lord = np.argsort(l)\n",
        "print(lord)"
      ],
      "execution_count": 12,
      "outputs": [
        {
          "output_type": "stream",
          "name": "stdout",
          "text": [
            "[2.22322468e+00 2.01614545e+00 5.94970828e-01 5.64055247e-17\n",
            " 2.48448413e-03]\n",
            "[3 4 2 1 0]\n"
          ]
        }
      ]
    },
    {
      "cell_type": "code",
      "metadata": {
        "colab": {
          "base_uri": "https://localhost:8080/"
        },
        "id": "h6sitJPNcA4j",
        "outputId": "9e7f2624-be46-4cbf-9e89-84a1c4aef9db"
      },
      "source": [
        "l = np.flipud(np.sort(l))\n",
        "print(l)\n",
        "lord = np.flipud(lord)\n",
        "print(lord)"
      ],
      "execution_count": 14,
      "outputs": [
        {
          "output_type": "stream",
          "name": "stdout",
          "text": [
            "[2.22322468e+00 2.01614545e+00 5.94970828e-01 2.48448413e-03\n",
            " 5.64055247e-17]\n",
            "[0 1 2 4 3]\n"
          ]
        }
      ]
    },
    {
      "cell_type": "markdown",
      "metadata": {
        "id": "o9GRLPwockjm"
      },
      "source": [
        "**Paso 4: Variabilidad explicada.**\n",
        "Cuántas características se deberían seleccionar."
      ]
    },
    {
      "cell_type": "code",
      "metadata": {
        "colab": {
          "base_uri": "https://localhost:8080/"
        },
        "id": "ciTEC_3JcpX4",
        "outputId": "0828ca6d-0a68-464a-f856-683efe23bf09"
      },
      "source": [
        "lsum = l/np.sum(l)\n",
        "print(lsum)"
      ],
      "execution_count": 17,
      "outputs": [
        {
          "output_type": "stream",
          "name": "stdout",
          "text": [
            "[4.59645424e-01 4.16832378e-01 1.23008538e-01 5.13660078e-04\n",
            " 1.16616829e-17]\n"
          ]
        }
      ]
    },
    {
      "cell_type": "markdown",
      "metadata": {
        "id": "ul_q4DO3eUkI"
      },
      "source": [
        "Se reduce el dataset de 5 características a 3 características."
      ]
    },
    {
      "cell_type": "code",
      "metadata": {
        "colab": {
          "base_uri": "https://localhost:8080/"
        },
        "id": "M54pVKiGenfg",
        "outputId": "c5a3e6f8-b100-42b5-ef2b-c283be6e9bb9"
      },
      "source": [
        "#Suma acumulada.\n",
        "print(np.cumsum(lsum))"
      ],
      "execution_count": 19,
      "outputs": [
        {
          "output_type": "stream",
          "name": "stdout",
          "text": [
            "[0.45964542 0.8764778  0.99948634 1.         1.        ]\n"
          ]
        }
      ]
    },
    {
      "cell_type": "code",
      "metadata": {
        "colab": {
          "base_uri": "https://localhost:8080/"
        },
        "id": "a88C5syHerWm",
        "outputId": "d66ae798-54a9-4779-b7f3-c5fb224ddf5b"
      },
      "source": [
        "Leingvals = np.linalg.eig(Mcov)\n",
        "#Arroja valores propios y vectores propios.\n",
        "print(Leingvals)"
      ],
      "execution_count": 22,
      "outputs": [
        {
          "output_type": "stream",
          "name": "stdout",
          "text": [
            "(array([2.22322468e+00, 2.01614545e+00, 5.94970828e-01, 5.64055247e-17,\n",
            "       2.48448413e-03]), array([[-0.24117575, -0.41749763,  0.72705255, -0.4472136 ,  0.19729312],\n",
            "       [-0.59126357, -0.2618256 , -0.54008054, -0.4472136 , -0.30027945],\n",
            "       [-0.09967031,  0.81538434,  0.23246894, -0.4472136 , -0.26678156],\n",
            "       [ 0.73798614, -0.27178917, -0.07242437, -0.4472136 , -0.41983546],\n",
            "       [ 0.1941235 ,  0.13572807, -0.34701657, -0.4472136 ,  0.78960336]]))\n"
          ]
        }
      ]
    },
    {
      "cell_type": "code",
      "metadata": {
        "colab": {
          "base_uri": "https://localhost:8080/"
        },
        "id": "YzfmthghfG03",
        "outputId": "fbb2d993-17a3-4216-d23f-e424ddd60931"
      },
      "source": [
        "#Filtrar los vectores propios.\n",
        "W = Leingvals[1]\n",
        "#Filtrar los 3 primeros.\n",
        "W = W[:,lord[:3]]\n",
        "print(W)"
      ],
      "execution_count": 27,
      "outputs": [
        {
          "output_type": "stream",
          "name": "stdout",
          "text": [
            "[[-0.24117575 -0.41749763  0.72705255]\n",
            " [-0.59126357 -0.2618256  -0.54008054]\n",
            " [-0.09967031  0.81538434  0.23246894]\n",
            " [ 0.73798614 -0.27178917 -0.07242437]\n",
            " [ 0.1941235   0.13572807 -0.34701657]]\n"
          ]
        }
      ]
    },
    {
      "cell_type": "markdown",
      "metadata": {
        "id": "F4-eyieffwRh"
      },
      "source": [
        "**Paso 5: Transformar los datos originales.**"
      ]
    },
    {
      "cell_type": "code",
      "metadata": {
        "colab": {
          "base_uri": "https://localhost:8080/"
        },
        "id": "gGYvUv91f4XZ",
        "outputId": "acb02e3a-a278-4cd0-8976-8fd781683188"
      },
      "source": [
        "Z = np.dot(Xz,W)\n",
        "print(Z)"
      ],
      "execution_count": 29,
      "outputs": [
        {
          "output_type": "stream",
          "name": "stdout",
          "text": [
            "[[ 1.05177502 -0.90737711 -0.32068134]\n",
            " [ 0.6967802   0.38505347 -1.91899601]\n",
            " [ 0.34066513 -0.13490983  0.64068685]\n",
            " [-1.39294082  0.27487901  1.35586353]\n",
            " [-0.69627954  0.38235446  0.24312697]]\n"
          ]
        }
      ]
    }
  ]
}
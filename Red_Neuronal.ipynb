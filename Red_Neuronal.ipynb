{
  "nbformat": 4,
  "nbformat_minor": 0,
  "metadata": {
    "colab": {
      "name": "Red Neuronal.ipynb",
      "provenance": [],
      "collapsed_sections": [],
      "authorship_tag": "ABX9TyNlRvRDfVc52iJfs/iHU6wQ",
      "include_colab_link": true
    },
    "kernelspec": {
      "name": "python3",
      "display_name": "Python 3"
    },
    "language_info": {
      "name": "python"
    },
    "accelerator": "GPU"
  },
  "cells": [
    {
      "cell_type": "markdown",
      "metadata": {
        "id": "view-in-github",
        "colab_type": "text"
      },
      "source": [
        "<a href=\"https://colab.research.google.com/github/bryanMontoya/machineLearning/blob/main/Red_Neuronal.ipynb\" target=\"_parent\"><img src=\"https://colab.research.google.com/assets/colab-badge.svg\" alt=\"Open In Colab\"/></a>"
      ]
    },
    {
      "cell_type": "code",
      "metadata": {
        "id": "7Os97ovGMRN4"
      },
      "source": [
        "import tensorflow as tf\n",
        "#Permite trabajar con cálculo simbólico.\n",
        "\n",
        "from tensorflow.keras.utils import plot_model\n",
        "from tensorflow.keras.models import Model #Crear modelo de NN\n",
        "from tensorflow.keras.layers import Input, Dense, Flatten, concatenate\n",
        "\n",
        "import matplotlib.pyplot as plt\n",
        "import numpy as np"
      ],
      "execution_count": 2,
      "outputs": []
    },
    {
      "cell_type": "code",
      "metadata": {
        "id": "LIkwMfEqS56d"
      },
      "source": [
        "num_classes = 10\n",
        "img_rows, img_columns = 28, 28\n",
        "num_channeels = 1\n",
        "input_shape = (img_rows, img_columns, num_channeels)"
      ],
      "execution_count": 3,
      "outputs": []
    },
    {
      "cell_type": "code",
      "metadata": {
        "colab": {
          "base_uri": "https://localhost:8080/"
        },
        "id": "16s_pwVxUJVQ",
        "outputId": "c4e61e54-f306-44e6-867b-c3fd156670e2"
      },
      "source": [
        "(X_train, y_train), (X_test, y_test) = tf.keras.datasets.mnist.load_data();\n",
        "X_train, X_test = X_train/255, X_test/255\n",
        "X_train.shape"
      ],
      "execution_count": 4,
      "outputs": [
        {
          "output_type": "stream",
          "name": "stdout",
          "text": [
            "Downloading data from https://storage.googleapis.com/tensorflow/tf-keras-datasets/mnist.npz\n",
            "11493376/11490434 [==============================] - 2s 0us/step\n",
            "11501568/11490434 [==============================] - 2s 0us/step\n"
          ]
        },
        {
          "output_type": "execute_result",
          "data": {
            "text/plain": [
              "(60000, 28, 28)"
            ]
          },
          "metadata": {},
          "execution_count": 4
        }
      ]
    },
    {
      "cell_type": "code",
      "metadata": {
        "colab": {
          "base_uri": "https://localhost:8080/",
          "height": 283
        },
        "id": "ujtMc20YVASC",
        "outputId": "2df6e8bd-5509-4d04-e58d-53fc4778b5a6"
      },
      "source": [
        "image_index = 10000\n",
        "print(y_train[image_index])\n",
        "plt.imshow(X_train[image_index], cmap = 'Greys');"
      ],
      "execution_count": 5,
      "outputs": [
        {
          "output_type": "stream",
          "name": "stdout",
          "text": [
            "3\n"
          ]
        },
        {
          "output_type": "display_data",
          "data": {
            "image/png": "[encoded data removed]",
            "text/plain": [
              "<Figure size 432x288 with 1 Axes>"
            ]
          },
          "metadata": {
            "needs_background": "light"
          }
        }
      ]
    },
    {
      "cell_type": "code",
      "metadata": {
        "colab": {
          "base_uri": "https://localhost:8080/",
          "height": 701
        },
        "id": "lmT-4JCSXF-5",
        "outputId": "50d8ae2c-12e7-45b9-dc04-8d65ea71aba4"
      },
      "source": [
        "plt.figure(figsize = (12, 12))\n",
        "k = 0\n",
        "idx = np.random.randint(0, 59999, 9)\n",
        "for i in idx:\n",
        "  plt.subplot(3,3,k+1)\n",
        "  plt.imshow(X_train[i], cmap = 'Greys')\n",
        "  k+=1"
      ],
      "execution_count": 6,
      "outputs": [
        {
          "output_type": "display_data",
          "data": {
            "image/png": "[encoded data removed]",
            "text/plain": [
              "<Figure size 864x864 with 9 Axes>"
            ]
          },
          "metadata": {
            "needs_background": "light"
          }
        }
      ]
    },
    {
      "cell_type": "code",
      "metadata": {
        "colab": {
          "base_uri": "https://localhost:8080/"
        },
        "id": "b0h7q4hGmbX4",
        "outputId": "0a74e23f-0ad6-49a7-ceab-dd1343641681"
      },
      "source": [
        "model = tf.keras.models.Sequential()\n",
        "model.add(Flatten(input_shape = (28, 28)))\n",
        "model.add(Dense(128, activation = 'relu')) #Capas intermedias.\n",
        "model.add(Dense(num_classes, activation = 'softmax')) #Capas de salida.\n",
        "\n",
        "model.summary()"
      ],
      "execution_count": 7,
      "outputs": [
        {
          "output_type": "stream",
          "name": "stdout",
          "text": [
            "Model: \"sequential\"\n",
            "_________________________________________________________________\n",
            "Layer (type)                 Output Shape              Param #   \n",
            "=================================================================\n",
            "flatten (Flatten)            (None, 784)               0         \n",
            "_________________________________________________________________\n",
            "dense (Dense)                (None, 128)               100480    \n",
            "_________________________________________________________________\n",
            "dense_1 (Dense)              (None, 10)                1290      \n",
            "=================================================================\n",
            "Total params: 101,770\n",
            "Trainable params: 101,770\n",
            "Non-trainable params: 0\n",
            "_________________________________________________________________\n"
          ]
        }
      ]
    },
    {
      "cell_type": "code",
      "metadata": {
        "id": "VBhfFC23oADX"
      },
      "source": [
        "model.compile(tf.keras.optimizers.SGD(learning_rate = 0.01), loss = 'sparse_categorical_crossentropy', metrics = ['accuracy'])"
      ],
      "execution_count": 8,
      "outputs": []
    },
    {
      "cell_type": "code",
      "metadata": {
        "colab": {
          "base_uri": "https://localhost:8080/"
        },
        "id": "3plrxih-qgw3",
        "outputId": "0fa3fd21-1636-4bcc-b455-f21a1a51544f"
      },
      "source": [
        "model.fit(X_train, y_train, epochs = 20, verbose = 1, validation_data = (X_test, y_test))"
      ],
      "execution_count": 9,
      "outputs": [
        {
          "output_type": "stream",
          "name": "stdout",
          "text": [
            "Epoch 1/20\n",
            "1875/1875 [==============================] - 8s 3ms/step - loss: 0.6511 - accuracy: 0.8350 - val_loss: 0.3570 - val_accuracy: 0.9050\n",
            "Epoch 2/20\n",
            "1875/1875 [==============================] - 5s 2ms/step - loss: 0.3394 - accuracy: 0.9046 - val_loss: 0.2919 - val_accuracy: 0.9200\n",
            "Epoch 3/20\n",
            "1875/1875 [==============================] - 5s 2ms/step - loss: 0.2919 - accuracy: 0.9182 - val_loss: 0.2611 - val_accuracy: 0.9277\n",
            "Epoch 4/20\n",
            "1875/1875 [==============================] - 5s 2ms/step - loss: 0.2622 - accuracy: 0.9263 - val_loss: 0.2380 - val_accuracy: 0.9343\n",
            "Epoch 5/20\n",
            "1875/1875 [==============================] - 5s 3ms/step - loss: 0.2394 - accuracy: 0.9328 - val_loss: 0.2198 - val_accuracy: 0.9387\n",
            "Epoch 6/20\n",
            "1875/1875 [==============================] - 5s 2ms/step - loss: 0.2205 - accuracy: 0.9384 - val_loss: 0.2045 - val_accuracy: 0.9442\n",
            "Epoch 7/20\n",
            "1875/1875 [==============================] - 5s 2ms/step - loss: 0.2049 - accuracy: 0.9428 - val_loss: 0.1923 - val_accuracy: 0.9470\n",
            "Epoch 8/20\n",
            "1875/1875 [==============================] - 5s 2ms/step - loss: 0.1912 - accuracy: 0.9463 - val_loss: 0.1807 - val_accuracy: 0.9486\n",
            "Epoch 9/20\n",
            "1875/1875 [==============================] - 5s 3ms/step - loss: 0.1794 - accuracy: 0.9499 - val_loss: 0.1732 - val_accuracy: 0.9499\n",
            "Epoch 10/20\n",
            "1875/1875 [==============================] - 5s 2ms/step - loss: 0.1693 - accuracy: 0.9523 - val_loss: 0.1641 - val_accuracy: 0.9525\n",
            "Epoch 11/20\n",
            "1875/1875 [==============================] - 5s 3ms/step - loss: 0.1603 - accuracy: 0.9552 - val_loss: 0.1549 - val_accuracy: 0.9546\n",
            "Epoch 12/20\n",
            "1875/1875 [==============================] - 5s 3ms/step - loss: 0.1522 - accuracy: 0.9573 - val_loss: 0.1484 - val_accuracy: 0.9566\n",
            "Epoch 13/20\n",
            "1875/1875 [==============================] - 5s 2ms/step - loss: 0.1449 - accuracy: 0.9597 - val_loss: 0.1425 - val_accuracy: 0.9584\n",
            "Epoch 14/20\n",
            "1875/1875 [==============================] - 5s 2ms/step - loss: 0.1384 - accuracy: 0.9611 - val_loss: 0.1381 - val_accuracy: 0.9598\n",
            "Epoch 15/20\n",
            "1875/1875 [==============================] - 5s 2ms/step - loss: 0.1324 - accuracy: 0.9631 - val_loss: 0.1329 - val_accuracy: 0.9612\n",
            "Epoch 16/20\n",
            "1875/1875 [==============================] - 5s 2ms/step - loss: 0.1269 - accuracy: 0.9648 - val_loss: 0.1290 - val_accuracy: 0.9632\n",
            "Epoch 17/20\n",
            "1875/1875 [==============================] - 5s 2ms/step - loss: 0.1218 - accuracy: 0.9663 - val_loss: 0.1253 - val_accuracy: 0.9629\n",
            "Epoch 18/20\n",
            "1875/1875 [==============================] - 5s 2ms/step - loss: 0.1168 - accuracy: 0.9677 - val_loss: 0.1223 - val_accuracy: 0.9642\n",
            "Epoch 19/20\n",
            "1875/1875 [==============================] - 5s 2ms/step - loss: 0.1124 - accuracy: 0.9689 - val_loss: 0.1198 - val_accuracy: 0.9649\n",
            "Epoch 20/20\n",
            "1875/1875 [==============================] - 5s 2ms/step - loss: 0.1085 - accuracy: 0.9708 - val_loss: 0.1147 - val_accuracy: 0.9669\n"
          ]
        },
        {
          "output_type": "execute_result",
          "data": {
            "text/plain": [
              "<keras.callbacks.History at 0x7f70e01e2110>"
            ]
          },
          "metadata": {},
          "execution_count": 9
        }
      ]
    },
    {
      "cell_type": "code",
      "metadata": {
        "colab": {
          "base_uri": "https://localhost:8080/"
        },
        "id": "PE3F-5CcvD3i",
        "outputId": "604f336d-033d-4da0-a6b0-4abf1cd950bc"
      },
      "source": [
        "#Para guardar modelo entrenado. Transferencia de aprendizaje.\n",
        "model.save('modelo1.h5')\n",
        "model1 = tf.keras.models.load_model('modelo1.h5')\n",
        "model1.summary()"
      ],
      "execution_count": 13,
      "outputs": [
        {
          "output_type": "stream",
          "name": "stdout",
          "text": [
            "Model: \"sequential\"\n",
            "_________________________________________________________________\n",
            "Layer (type)                 Output Shape              Param #   \n",
            "=================================================================\n",
            "flatten (Flatten)            (None, 784)               0         \n",
            "_________________________________________________________________\n",
            "dense (Dense)                (None, 128)               100480    \n",
            "_________________________________________________________________\n",
            "dense_1 (Dense)              (None, 10)                1290      \n",
            "=================================================================\n",
            "Total params: 101,770\n",
            "Trainable params: 101,770\n",
            "Non-trainable params: 0\n",
            "_________________________________________________________________\n"
          ]
        }
      ]
    },
    {
      "cell_type": "code",
      "metadata": {
        "id": "exicvVTgv4h2"
      },
      "source": [
        "#NO guardar el modelo, sino guardar los pesos.\n",
        "model.save_weights('modelpesos.h5')"
      ],
      "execution_count": 14,
      "outputs": []
    },
    {
      "cell_type": "code",
      "metadata": {
        "id": "DVy5F7SqwWbi"
      },
      "source": [
        "model.load_weights('modelpesos.h5')"
      ],
      "execution_count": 15,
      "outputs": []
    },
    {
      "cell_type": "code",
      "metadata": {
        "colab": {
          "base_uri": "https://localhost:8080/",
          "height": 369
        },
        "id": "sQ0fBrHjwiBS",
        "outputId": "5e91c6d1-b1da-4e41-d738-7ce23932315d"
      },
      "source": [
        "plot_model(model, to_file = 'ann1.png')"
      ],
      "execution_count": 18,
      "outputs": [
        {
          "output_type": "execute_result",
          "data": {
            "image/png": "[encoded data removed]",
            "text/plain": [
              "<IPython.core.display.Image object>"
            ]
          },
          "metadata": {},
          "execution_count": 18
        }
      ]
    }
  ]
}